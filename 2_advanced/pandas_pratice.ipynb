{
 "cells": [
  {
   "cell_type": "code",
   "execution_count": 14,
   "id": "c8d78306",
   "metadata": {},
   "outputs": [],
   "source": [
    "import pandas as pd\n",
    "import numpy as np"
   ]
  },
  {
   "cell_type": "code",
   "execution_count": 2,
   "id": "7922c56d",
   "metadata": {},
   "outputs": [],
   "source": [
    "#load coffee dataset \n",
    "#test duplicates no_duplicates\n",
    "coffee = pd.read_csv('https://raw.githubusercontent.com/KeithGalli/complete-pandas-tutorial/refs/heads/master/warmup-data/coffee.csv')\n",
    "no_duplicates = coffee.drop_duplicates(subset=['Coffee Type', 'Units Sold'], keep='last', ignore_index=True).copy()"
   ]
  },
  {
   "cell_type": "code",
   "execution_count": 38,
   "id": "c9951caa",
   "metadata": {},
   "outputs": [],
   "source": [
    "region = pd.read_csv('https://raw.githubusercontent.com/KeithGalli/complete-pandas-tutorial/refs/heads/master/data/noc_regions.csv')\n",
    "bios = pd.read_csv('https://raw.githubusercontent.com/KeithGalli/complete-pandas-tutorial/refs/heads/master/data/bios.csv')\n",
    "coffee = pd.read_csv('https://raw.githubusercontent.com/KeithGalli/complete-pandas-tutorial/refs/heads/master/warmup-data/coffee.csv')"
   ]
  },
  {
   "cell_type": "code",
   "execution_count": 10,
   "id": "76243117",
   "metadata": {},
   "outputs": [],
   "source": [
    "us1 =bios.loc[bios['born_country'] == 'USA']\n",
    "\n",
    "us2 = bios.query('born_country == \"USA\"')\n",
    "\n",
    "us3 = bios[bios['born_country'] == 'USA']"
   ]
  },
  {
   "cell_type": "code",
   "execution_count": 39,
   "id": "2d3228dd",
   "metadata": {},
   "outputs": [],
   "source": [
    "coffee['price'] = 3.99"
   ]
  },
  {
   "cell_type": "code",
   "execution_count": 40,
   "id": "35a2c842",
   "metadata": {},
   "outputs": [],
   "source": [
    "coffee['price'] = np.where(coffee['Coffee Type'] == 'Latte', 4.99, coffee['price'])\n",
    "\n"
   ]
  },
  {
   "cell_type": "code",
   "execution_count": 41,
   "id": "5008ed3f",
   "metadata": {},
   "outputs": [],
   "source": [
    "coffee['revenue'] = coffee['Units Sold'] * coffee['price']"
   ]
  },
  {
   "cell_type": "code",
   "execution_count": 43,
   "id": "ea4502bf",
   "metadata": {},
   "outputs": [],
   "source": [
    "#change born_date to datetime\n",
    "\n",
    "bios['born_date'] = pd.to_datetime(bios['born_date'], format='%Y-%m-%d')"
   ]
  },
  {
   "cell_type": "code",
   "execution_count": 45,
   "id": "6c1191e8",
   "metadata": {},
   "outputs": [],
   "source": [
    "#get first name and last name from full name\n",
    "#get year of birth from bios dataset\n",
    "\n",
    "\n",
    "bios_new = bios.copy()\n",
    "\n",
    "bios_new['first_name'] = bios_new['name'].str.split(' ').str[0]\n",
    "bios_new['last_name'] = bios_new['name'].str.split(' ').str[1]\n",
    "\n",
    "bios_new['year_of_birth'] = bios_new['born_date'].fillna(pd.Timestamp('2020-01-01'))\n",
    "\n",
    "bios_new['year_of_birth'] = bios_new['born_date'].dt.year"
   ]
  },
  {
   "cell_type": "code",
   "execution_count": 57,
   "id": "6ab33096",
   "metadata": {},
   "outputs": [
    {
     "name": "stdout",
     "output_type": "stream",
     "text": [
      "c:\\Users\\oemiri\\OneDrive - AUBAY\\Documents\\learning\\learn python\\2_Advanced\\2_advanced\n"
     ]
    }
   ],
   "source": [
    "print(os.getcwd())"
   ]
  },
  {
   "cell_type": "code",
   "execution_count": 65,
   "id": "dfb0b108",
   "metadata": {},
   "outputs": [],
   "source": [
    "new_df = pd.merge(bios, region, how='left', left_on='born_country', right_on='NOC')"
   ]
  },
  {
   "cell_type": "code",
   "execution_count": 68,
   "id": "ae88539e",
   "metadata": {},
   "outputs": [],
   "source": [
    "new_df.rename(columns={'region': 'country_name'}, inplace=True)"
   ]
  },
  {
   "cell_type": "code",
   "execution_count": 72,
   "id": "01eddbad",
   "metadata": {},
   "outputs": [
    {
     "data": {
      "text/html": [
       "<div>\n",
       "<style scoped>\n",
       "    .dataframe tbody tr th:only-of-type {\n",
       "        vertical-align: middle;\n",
       "    }\n",
       "\n",
       "    .dataframe tbody tr th {\n",
       "        vertical-align: top;\n",
       "    }\n",
       "\n",
       "    .dataframe thead th {\n",
       "        text-align: right;\n",
       "    }\n",
       "</style>\n",
       "<table border=\"1\" class=\"dataframe\">\n",
       "  <thead>\n",
       "    <tr style=\"text-align: right;\">\n",
       "      <th></th>\n",
       "      <th>Units Sold</th>\n",
       "      <th>revenue</th>\n",
       "    </tr>\n",
       "    <tr>\n",
       "      <th>Coffee Type</th>\n",
       "      <th></th>\n",
       "      <th></th>\n",
       "    </tr>\n",
       "  </thead>\n",
       "  <tbody>\n",
       "    <tr>\n",
       "      <th>Espresso</th>\n",
       "      <td>265</td>\n",
       "      <td>159.6</td>\n",
       "    </tr>\n",
       "    <tr>\n",
       "      <th>Latte</th>\n",
       "      <td>195</td>\n",
       "      <td>149.7</td>\n",
       "    </tr>\n",
       "  </tbody>\n",
       "</table>\n",
       "</div>"
      ],
      "text/plain": [
       "             Units Sold  revenue\n",
       "Coffee Type                     \n",
       "Espresso            265    159.6\n",
       "Latte               195    149.7"
      ]
     },
     "execution_count": 72,
     "metadata": {},
     "output_type": "execute_result"
    }
   ],
   "source": [
    "coffee.groupby('Coffee Type').agg({'Units Sold': 'sum', 'revenue': 'median'})"
   ]
  }
 ],
 "metadata": {
  "kernelspec": {
   "display_name": "learn_python_venv",
   "language": "python",
   "name": "python3"
  },
  "language_info": {
   "codemirror_mode": {
    "name": "ipython",
    "version": 3
   },
   "file_extension": ".py",
   "mimetype": "text/x-python",
   "name": "python",
   "nbconvert_exporter": "python",
   "pygments_lexer": "ipython3",
   "version": "3.11.11"
  }
 },
 "nbformat": 4,
 "nbformat_minor": 5
}
