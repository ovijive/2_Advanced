{
 "cells": [
  {
   "cell_type": "markdown",
   "id": "c7bff89d",
   "metadata": {},
   "source": [
    "# **Top 5 data roles**\n",
    "\n",
    "- calculate top 5 roles base on job_title_short column"
   ]
  },
  {
   "cell_type": "code",
   "execution_count": 1,
   "id": "7c3c1c9b",
   "metadata": {},
   "outputs": [],
   "source": [
    "# Importing Libraries\n",
    "import ast\n",
    "import pandas as pd\n",
    "import seaborn as sns\n",
    "from datasets import load_dataset\n",
    "import matplotlib.pyplot as plt  \n",
    "\n",
    "# Loading Data\n",
    "dataset = load_dataset('lukebarousse/data_jobs')\n",
    "df = dataset['train'].to_pandas()\n",
    "\n",
    "# Data Cleanup\n",
    "df['job_posted_date'] = pd.to_datetime(df['job_posted_date'])\n",
    "df['job_skills'] = df['job_skills'].apply(lambda x: ast.literal_eval(x) if pd.notna(x) else x)"
   ]
  },
  {
   "cell_type": "code",
   "execution_count": 4,
   "id": "9136b41c",
   "metadata": {},
   "outputs": [],
   "source": [
    "# Filtering Data to just France data\n",
    "df_FR = df[df['job_country'] == 'France']"
   ]
  },
  {
   "cell_type": "markdown",
   "id": "1e409634",
   "metadata": {},
   "source": [
    "### use explode method to split each skill to a line in order to perform count operation later"
   ]
  },
  {
   "cell_type": "code",
   "execution_count": 15,
   "id": "341489d9",
   "metadata": {},
   "outputs": [
    {
     "data": {
      "text/html": [
       "<div>\n",
       "<style scoped>\n",
       "    .dataframe tbody tr th:only-of-type {\n",
       "        vertical-align: middle;\n",
       "    }\n",
       "\n",
       "    .dataframe tbody tr th {\n",
       "        vertical-align: top;\n",
       "    }\n",
       "\n",
       "    .dataframe thead th {\n",
       "        text-align: right;\n",
       "    }\n",
       "</style>\n",
       "<table border=\"1\" class=\"dataframe\">\n",
       "  <thead>\n",
       "    <tr style=\"text-align: right;\">\n",
       "      <th></th>\n",
       "      <th>job_title</th>\n",
       "      <th>job_skills</th>\n",
       "    </tr>\n",
       "  </thead>\n",
       "  <tbody>\n",
       "    <tr>\n",
       "      <th>12</th>\n",
       "      <td>Stagiaire Data Analyst (H/F) - Lyon (69006)</td>\n",
       "      <td>sql</td>\n",
       "    </tr>\n",
       "    <tr>\n",
       "      <th>12</th>\n",
       "      <td>Stagiaire Data Analyst (H/F) - Lyon (69006)</td>\n",
       "      <td>php</td>\n",
       "    </tr>\n",
       "    <tr>\n",
       "      <th>12</th>\n",
       "      <td>Stagiaire Data Analyst (H/F) - Lyon (69006)</td>\n",
       "      <td>excel</td>\n",
       "    </tr>\n",
       "    <tr>\n",
       "      <th>12</th>\n",
       "      <td>Stagiaire Data Analyst (H/F) - Lyon (69006)</td>\n",
       "      <td>power bi</td>\n",
       "    </tr>\n",
       "    <tr>\n",
       "      <th>12</th>\n",
       "      <td>Stagiaire Data Analyst (H/F) - Lyon (69006)</td>\n",
       "      <td>sap</td>\n",
       "    </tr>\n",
       "    <tr>\n",
       "      <th>...</th>\n",
       "      <td>...</td>\n",
       "      <td>...</td>\n",
       "    </tr>\n",
       "    <tr>\n",
       "      <th>785693</th>\n",
       "      <td>Senior Data Scientist BI</td>\n",
       "      <td>pandas</td>\n",
       "    </tr>\n",
       "    <tr>\n",
       "      <th>785693</th>\n",
       "      <td>Senior Data Scientist BI</td>\n",
       "      <td>numpy</td>\n",
       "    </tr>\n",
       "    <tr>\n",
       "      <th>785693</th>\n",
       "      <td>Senior Data Scientist BI</td>\n",
       "      <td>keras</td>\n",
       "    </tr>\n",
       "    <tr>\n",
       "      <th>785693</th>\n",
       "      <td>Senior Data Scientist BI</td>\n",
       "      <td>pytorch</td>\n",
       "    </tr>\n",
       "    <tr>\n",
       "      <th>785693</th>\n",
       "      <td>Senior Data Scientist BI</td>\n",
       "      <td>visio</td>\n",
       "    </tr>\n",
       "  </tbody>\n",
       "</table>\n",
       "<p>181960 rows × 2 columns</p>\n",
       "</div>"
      ],
      "text/plain": [
       "                                          job_title job_skills\n",
       "12      Stagiaire Data Analyst (H/F) - Lyon (69006)        sql\n",
       "12      Stagiaire Data Analyst (H/F) - Lyon (69006)        php\n",
       "12      Stagiaire Data Analyst (H/F) - Lyon (69006)      excel\n",
       "12      Stagiaire Data Analyst (H/F) - Lyon (69006)   power bi\n",
       "12      Stagiaire Data Analyst (H/F) - Lyon (69006)        sap\n",
       "...                                             ...        ...\n",
       "785693                     Senior Data Scientist BI     pandas\n",
       "785693                     Senior Data Scientist BI      numpy\n",
       "785693                     Senior Data Scientist BI      keras\n",
       "785693                     Senior Data Scientist BI    pytorch\n",
       "785693                     Senior Data Scientist BI      visio\n",
       "\n",
       "[181960 rows x 2 columns]"
      ]
     },
     "execution_count": 15,
     "metadata": {},
     "output_type": "execute_result"
    }
   ],
   "source": [
    "df_FR_skills = df_FR.explode('job_skills')\n",
    "df_FR_skills[['job_title', 'job_skills']]"
   ]
  },
  {
   "cell_type": "markdown",
   "id": "1514ef9e",
   "metadata": {},
   "source": [
    "### count skills per kob_title (count using groupby)\n"
   ]
  },
  {
   "cell_type": "code",
   "execution_count": 29,
   "id": "7f0c5068",
   "metadata": {},
   "outputs": [],
   "source": [
    "# Group by job_skills and job_title_short and count the number of occurrences\n",
    "df_FR_skills_count = df_FR_skills.groupby(['job_skills', 'job_title_short']).size()\n",
    "\n",
    "# Name the count column as count\n",
    "df_FR_skills_count = df_FR_skills_count.reset_index(name='skill_count')\n",
    "\n",
    "# Sort the values by skill_count in descending order\n",
    "df_FR_skills_count.sort_values(by='skill_count', ascending=False, inplace=True)"
   ]
  },
  {
   "cell_type": "code",
   "execution_count": 38,
   "id": "1e72d8e4",
   "metadata": {},
   "outputs": [
    {
     "data": {
      "text/plain": [
       "['Data Scientist',\n",
       " 'Data Analyst',\n",
       " 'Data Engineer',\n",
       " 'Senior Data Engineer',\n",
       " 'Senior Data Scientist']"
      ]
     },
     "execution_count": 38,
     "metadata": {},
     "output_type": "execute_result"
    }
   ],
   "source": [
    "# unique list of job titles\n",
    "job_titles_uniques = df_FR_skills_count['job_title_short'].unique().tolist()\n",
    "\n",
    "#top 5 job titles\n",
    "job_titles_uniques[:5]"
   ]
  },
  {
   "cell_type": "code",
   "execution_count": null,
   "id": "6be711c7",
   "metadata": {},
   "outputs": [],
   "source": []
  }
 ],
 "metadata": {
  "kernelspec": {
   "display_name": "learn_python_venv",
   "language": "python",
   "name": "python3"
  },
  "language_info": {
   "codemirror_mode": {
    "name": "ipython",
    "version": 3
   },
   "file_extension": ".py",
   "mimetype": "text/x-python",
   "name": "python",
   "nbconvert_exporter": "python",
   "pygments_lexer": "ipython3",
   "version": "3.11.11"
  }
 },
 "nbformat": 4,
 "nbformat_minor": 5
}
